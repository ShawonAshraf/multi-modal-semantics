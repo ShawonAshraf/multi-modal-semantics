{
 "cells": [
  {
   "cell_type": "code",
   "execution_count": 1,
   "metadata": {},
   "outputs": [],
   "source": [
    "import torch\n",
    "import numpy as np"
   ]
  },
  {
   "cell_type": "code",
   "execution_count": 2,
   "metadata": {},
   "outputs": [],
   "source": [
    "device = torch.device(\"mps\")"
   ]
  },
  {
   "cell_type": "code",
   "execution_count": 3,
   "metadata": {},
   "outputs": [],
   "source": [
    "Wq = torch.tensor(\n",
    "    [\n",
    "        [1, 0, 2, 3], \n",
    "        [0, 1, 0, 1],\n",
    "        [2, 0, 0, 2], \n",
    "        [0, 1, 2, 1], \n",
    "    ],\n",
    "    device=device\n",
    ").float()\n"
   ]
  },
  {
   "cell_type": "code",
   "execution_count": 4,
   "metadata": {},
   "outputs": [],
   "source": [
    "Wk = torch.tensor(\n",
    "    [\n",
    "        [0, 2, 2, 0],\n",
    "        [1, 0, 0, 3],\n",
    "        [0, 0, 1, 0],\n",
    "        [0, 2, 1, 1], \n",
    "    ],\n",
    "    device=device\n",
    ").float() "
   ]
  },
  {
   "cell_type": "code",
   "execution_count": 5,
   "metadata": {},
   "outputs": [],
   "source": [
    "Wv = torch.tensor(\n",
    "    [\n",
    "        [0, 1, 0, 2],\n",
    "        [1, 3, 0, 0],\n",
    "        [0, 0, 2, 1],\n",
    "        [0, 2, 2, 1], \n",
    "    ],\n",
    "    device=device\n",
    ").float()\n"
   ]
  },
  {
   "cell_type": "code",
   "execution_count": 6,
   "metadata": {},
   "outputs": [],
   "source": [
    "x1 = torch.tensor([2,0,0,2], device=device).float() \n",
    "x2 = torch.tensor([1,1,2,2], device=device).float() \n",
    "x3 = torch.tensor([0,2,1,3], device=device).float() "
   ]
  },
  {
   "cell_type": "code",
   "execution_count": 7,
   "metadata": {},
   "outputs": [
    {
     "name": "stderr",
     "output_type": "stream",
     "text": [
      "/var/folders/w_/_7kmyrs11p77hyq28r_kfg4h0000gn/T/ipykernel_85682/1046715240.py:1: UserWarning: The use of `x.T` on tensors of dimension other than 2 to reverse their shape is deprecated and it will throw an error in a future release. Consider `x.mT` to transpose batches of matrices or `x.permute(*torch.arange(x.ndim - 1, -1, -1))` to reverse the dimensions of a tensor. (Triggered internally at /Users/runner/work/_temp/anaconda/conda-bld/pytorch_1682343657571/work/aten/src/ATen/native/TensorShape.cpp:3575.)\n",
      "  q3 = Wq @ x3.T\n"
     ]
    },
    {
     "data": {
      "text/plain": [
       "tensor([11.,  5.,  6.,  7.], device='mps:0')"
      ]
     },
     "execution_count": 7,
     "metadata": {},
     "output_type": "execute_result"
    }
   ],
   "source": [
    "q3 = Wq @ x3.T\n",
    "q3"
   ]
  },
  {
   "cell_type": "code",
   "execution_count": 8,
   "metadata": {},
   "outputs": [
    {
     "name": "stdout",
     "output_type": "stream",
     "text": [
      "k1 = tensor([0., 8., 0., 2.], device='mps:0')\n",
      "k2 = tensor([6., 7., 2., 6.], device='mps:0')\n",
      "k3 = tensor([6., 9., 1., 8.], device='mps:0')\n"
     ]
    }
   ],
   "source": [
    "k1 = Wk @ x1.T\n",
    "k2 = Wk @ x2.T\n",
    "k3 = Wk @ x3.T \n",
    "\n",
    "print(f\"k1 = {k1}\")\n",
    "print(f\"k2 = {k2}\")\n",
    "print(f\"k3 = {k3}\")"
   ]
  },
  {
   "cell_type": "code",
   "execution_count": 9,
   "metadata": {},
   "outputs": [
    {
     "name": "stdout",
     "output_type": "stream",
     "text": [
      "v1 = [4.0, 2.0, 2.0, 2.0]\n",
      "v2 = [5.0, 4.0, 6.0, 8.0]\n",
      "v3 = [8.0, 6.0, 5.0, 9.0]\n"
     ]
    }
   ],
   "source": [
    "v1 = Wv @ x1.T\n",
    "v2 = Wv @ x2.T\n",
    "v3 = Wv @ x3.T\n",
    "\n",
    "print(f\"v1 = {v1.tolist()}\")\n",
    "print(f\"v2 = {v2.tolist()}\")\n",
    "print(f\"v3 = {v3.tolist()}\")"
   ]
  },
  {
   "cell_type": "code",
   "execution_count": 10,
   "metadata": {},
   "outputs": [
    {
     "data": {
      "text/plain": [
       "tensor([[0., 8., 0., 2.],\n",
       "        [6., 7., 2., 6.],\n",
       "        [6., 9., 1., 8.]], device='mps:0')"
      ]
     },
     "execution_count": 10,
     "metadata": {},
     "output_type": "execute_result"
    }
   ],
   "source": [
    "k = torch.stack([k1, k2, k3], dim=0)\n",
    "k"
   ]
  },
  {
   "cell_type": "code",
   "execution_count": 11,
   "metadata": {},
   "outputs": [
    {
     "data": {
      "text/plain": [
       "tensor([ 54., 155., 173.], device='mps:0')"
      ]
     },
     "execution_count": 11,
     "metadata": {},
     "output_type": "execute_result"
    }
   ],
   "source": [
    "q3 @ k.T"
   ]
  },
  {
   "cell_type": "code",
   "execution_count": 12,
   "metadata": {},
   "outputs": [
    {
     "data": {
      "text/plain": [
       "tensor([27.0000, 77.5000, 86.5000], device='mps:0')"
      ]
     },
     "execution_count": 12,
     "metadata": {},
     "output_type": "execute_result"
    }
   ],
   "source": [
    "alpha_prime_3j = (q3 @ k.T) / 2.0\n",
    "\n",
    "alpha_prime_3j"
   ]
  },
  {
   "cell_type": "code",
   "execution_count": 13,
   "metadata": {},
   "outputs": [
    {
     "data": {
      "text/plain": [
       "tensor([4., 2., 2., 2.], device='mps:0')"
      ]
     },
     "execution_count": 13,
     "metadata": {},
     "output_type": "execute_result"
    }
   ],
   "source": [
    "Wv @ x1"
   ]
  },
  {
   "cell_type": "code",
   "execution_count": 14,
   "metadata": {},
   "outputs": [
    {
     "data": {
      "text/plain": [
       "[1.4435253230330543e-26, 0.00012339460954535753, 0.9998766183853149]"
      ]
     },
     "execution_count": 14,
     "metadata": {},
     "output_type": "execute_result"
    }
   ],
   "source": [
    "alpha3j = alpha_prime_3j.softmax(dim=0)\n",
    "alpha3j.tolist()\n"
   ]
  },
  {
   "cell_type": "code",
   "execution_count": 15,
   "metadata": {},
   "outputs": [
    {
     "data": {
      "text/plain": [
       "[7.999629974365234, 5.999753475189209, 5.000123500823975, 8.999876976013184]"
      ]
     },
     "execution_count": 15,
     "metadata": {},
     "output_type": "execute_result"
    }
   ],
   "source": [
    "v = torch.stack([v1, v2, v3], dim=0)\n",
    "\n",
    "y3 = alpha3j @ v\n",
    "y3.tolist()\n"
   ]
  },
  {
   "cell_type": "code",
   "execution_count": null,
   "metadata": {},
   "outputs": [],
   "source": []
  }
 ],
 "metadata": {
  "kernelspec": {
   "display_name": "multisem",
   "language": "python",
   "name": "python3"
  },
  "language_info": {
   "codemirror_mode": {
    "name": "ipython",
    "version": 3
   },
   "file_extension": ".py",
   "mimetype": "text/x-python",
   "name": "python",
   "nbconvert_exporter": "python",
   "pygments_lexer": "ipython3",
   "version": "3.11.3"
  },
  "orig_nbformat": 4
 },
 "nbformat": 4,
 "nbformat_minor": 2
}
